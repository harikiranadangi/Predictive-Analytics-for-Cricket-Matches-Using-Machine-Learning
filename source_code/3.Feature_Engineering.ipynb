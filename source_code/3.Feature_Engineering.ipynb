{
 "cells": [
  {
   "cell_type": "markdown",
   "metadata": {},
   "source": [
    "### **Step 1: Load and Clean Data**"
   ]
  },
  {
   "cell_type": "code",
   "execution_count": null,
   "metadata": {},
   "outputs": [],
   "source": [
    "import pandas as pd\n",
    "\n",
    "# Input match type and gender\n",
    "match_type = input(\"Enter Match Type:\")\n",
    "gender = input(\"Enter Gender:\")\n",
    "\n",
    "# Load the match summary data\n",
    "match_summary = pd.read_csv(rf\"D:\\GITHUB\\Predictive-Analytics-for-Cricket-Matches-Using-Machine-Learning\\source_data\\Summary\\match_summary\\{gender}\\{match_type}_{gender}_match_summary_cleaned.csv\")\n",
    "match_summary.drop(columns=[\"Unnamed: 0\"], inplace=True)\n",
    "\n",
    "# Select relevant columns\n",
    "summary = match_summary[['match_id', 'season', 'match_date', 'match_type', 'event_name', 'team1', 'team2', 'toss_winner', 'toss_decision', 'winner', 'ground']].copy()\n",
    "summary"
   ]
  },
  {
   "cell_type": "markdown",
   "metadata": {},
   "source": [
    "### **Step 2: Unique Event Names**"
   ]
  },
  {
   "cell_type": "code",
   "execution_count": null,
   "metadata": {},
   "outputs": [],
   "source": [
    "# Get unique events and count\n",
    "unique_events = summary[\"event_name\"].unique()\n",
    "num_events = summary[\"event_name\"].nunique()\n",
    "\n",
    "# Save unique events to CSV\n",
    "events_df = pd.DataFrame({\"Unique Events\": unique_events})\n",
    "events_df.to_csv(rf\"D:\\GITHUB\\Predictive-Analytics-for-Cricket-Matches-Using-Machine-Learning\\source_data\\Summary\\match_summary\\{gender}\\{gender}_unique_events_summary.csv\", index=False)\n",
    "\n",
    "print(\"No of Events:\", num_events)"
   ]
  },
  {
   "cell_type": "markdown",
   "metadata": {},
   "source": [
    "### **Step 3: Swap Teams to Maintain Consistent Order**"
   ]
  },
  {
   "cell_type": "code",
   "execution_count": null,
   "metadata": {},
   "outputs": [],
   "source": [
    "# Create a column for sorted team tuples\n",
    "summary[\"team_tuple\"] = summary.apply(lambda row: tuple(sorted([row[\"team1\"], row[\"team2\"]])), axis=1)\n",
    "\n",
    "# Identify tuples that appear in reverse order and swap team names where necessary\n",
    "reverse_tuples = summary[\"team_tuple\"].value_counts()[summary[\"team_tuple\"].value_counts() > 1].index\n",
    "for team_tuple in reverse_tuples:\n",
    "    team1, team2 = team_tuple\n",
    "    summary.loc[(summary[\"team1\"] == team1) & (summary[\"team2\"] == team2), [\"team1\", \"team2\"]] = team2, team1\n",
    "\n",
    "# Drop the temporary column and filter the dataset\n",
    "summary.drop(columns=[\"team_tuple\"], inplace=True)\n",
    "summary = summary[(summary[\"winner\"] == summary[\"team1\"]) | (summary[\"winner\"] == summary[\"team2\"])].sort_values(by=\"match_id\", ascending=False).reset_index(drop=True)\n",
    "summary.sort_values(by=[\"match_date\", \"match_id\"], ascending=False, inplace=True)\n",
    "summary[:10]"
   ]
  },
  {
   "cell_type": "markdown",
   "metadata": {},
   "source": [
    "### **Step 4: Head-to-Head Winning Count**"
   ]
  },
  {
   "cell_type": "code",
   "execution_count": null,
   "metadata": {},
   "outputs": [],
   "source": [
    "# Calculate total matches played and head-to-head wins for team1\n",
    "summary['h2h'] = summary.groupby(['team1', 'team2'])['match_id'].transform('count')\n",
    "h2h_wins = summary.groupby(['team1', 'team2']).apply(lambda x: (x['winner'] == x['team1']).sum()).reset_index(name='h2h_team1_wins')\n",
    "\n",
    "# Merge calculated wins back to the original DataFrame\n",
    "summary = summary.merge(h2h_wins, on=['team1', 'team2'], how='left')\n",
    "summary[\"h2h_team1_wins%\"] = round((summary[\"h2h_team1_wins\"] / summary[\"h2h\"]) * 100).fillna(0).astype(int)\n",
    "\n",
    "# Display the updated DataFrame\n",
    "summary[['match_id', 'team1', 'team2', 'h2h', 'h2h_team1_wins']]"
   ]
  },
  {
   "cell_type": "markdown",
   "metadata": {},
   "source": [
    "### **Step 5: Head-to-Head Winning Count at a Venue**"
   ]
  },
  {
   "cell_type": "code",
   "execution_count": null,
   "metadata": {},
   "outputs": [],
   "source": [
    "# Standardize text data\n",
    "summary['team1'] = summary['team1'].str.strip().str.title()\n",
    "summary['team2'] = summary['team2'].str.strip().str.title()\n",
    "summary['ground'] = summary['ground'].str.strip().str.title().fillna('Unknown')\n",
    "summary['winner'] = summary['winner'].str.strip().str.title()\n",
    "\n",
    "# Calculate matches played and wins at the same venue for team1\n",
    "summary['h2h_venue'] = summary.groupby(['team1', 'team2', 'ground'])['match_id'].transform('count')\n",
    "head_to_head = summary.groupby(['team1', 'team2', 'ground', 'winner']).size().unstack(fill_value=0)\n",
    "\n",
    "# Create a column for wins by team1 at the same venue\n",
    "def get_team1_wins(row):\n",
    "    try:\n",
    "        return head_to_head.loc[(row['team1'], row['team2'], row['ground']), row['team1']]\n",
    "    except KeyError:\n",
    "        return 0\n",
    "\n",
    "summary['h2h_venue_team1_wins'] = summary.apply(get_team1_wins, axis=1)\n",
    "summary['h2h_venue_team1_wins%'] = round((summary['h2h_venue_team1_wins'] / summary['h2h_venue']) * 100, 2).fillna(0).astype(int)\n",
    "\n",
    "# Display the updated DataFrame\n",
    "summary[['match_id', 'match_date', 'team1', 'team2', 'ground', 'winner', 'h2h_venue', 'h2h_venue_team1_wins', 'h2h_venue_team1_wins%']].head()\n"
   ]
  },
  {
   "cell_type": "markdown",
   "metadata": {},
   "source": [
    "### **Step 6: Team Wins at a Venue**"
   ]
  },
  {
   "cell_type": "code",
   "execution_count": null,
   "metadata": {},
   "outputs": [],
   "source": [
    "# Calculate matches played and wins at the same venue for team1 and team2\n",
    "summary['team1_venue'] = summary.groupby(['team1', 'ground'])['match_id'].transform('count')\n",
    "summary['team2_venue'] = summary.groupby(['team2', 'ground'])['match_id'].transform('count')\n",
    "\n",
    "# Function to get team wins\n",
    "def get_team_wins(row, team_col):\n",
    "    try:\n",
    "        return head_to_head.loc[(row[team_col], row['ground']), row[team_col]]\n",
    "    except KeyError:\n",
    "        return 0\n",
    "\n",
    "summary['team1_venue_wins'] = summary.apply(lambda row: get_team_wins(row, 'team1'), axis=1)\n",
    "summary['team2_venue_wins'] = summary.apply(lambda row: get_team_wins(row, 'team2'), axis=1)\n",
    "\n",
    "# Calculate win percentages\n",
    "summary['team1_venue_wins%'] = round((summary['team1_venue_wins'] / summary['team1_venue']) * 100, 2).fillna(0).astype(int)\n",
    "summary['team2_venue_wins%'] = round((summary['team2_venue_wins'] / summary['team2_venue']) * 100, 2).fillna(0).astype(int)\n",
    "\n",
    "# Display the updated DataFrame\n",
    "summary[['match_id', 'match_date', 'team1', 'team2', 'team1_venue_wins', 'team1_venue_wins%', 'team2_venue_wins', 'team2_venue_wins%', 'ground', 'winner']].head()"
   ]
  },
  {
   "cell_type": "markdown",
   "metadata": {},
   "source": [
    "### **Step 7: Last 5 Matches Performance**"
   ]
  },
  {
   "cell_type": "code",
   "execution_count": null,
   "metadata": {},
   "outputs": [],
   "source": [
    "def last_5_matches_wins(summary_df):\n",
    "    teams = set(summary_df['team1']).union(set(summary_df['team2']))\n",
    "    last_5_matches_wins_combined = []\n",
    "\n",
    "    for team in teams:\n",
    "        team_matches = summary_df[(summary_df['team1'] == team) | (summary_df['team2'] == team)]\n",
    "        last_5_team_matches = team_matches.sort_values(by=['match_date', 'match_id'], ascending=False).head(5)\n",
    "        team_wins_count = len(last_5_team_matches.loc[last_5_team_matches['winner'] == team])\n",
    "        last_5_matches_wins_combined.append({'team': team, 'team_last_5_wins': team_wins_count})\n",
    "\n",
    "    return pd.DataFrame(last_5_matches_wins_combined)\n",
    "\n",
    "last_5_matches_wins_df = last_5_matches_wins(summary)\n",
    "last_5_team1_matches_wins_df = last_5_matches_wins_df.rename(columns={\"team\": \"team1\", \"team_last_5_wins\": \"team1_last_5_wins\"})\n",
    "last_5_team2_matches_wins_df = last_5_matches_wins_df.rename(columns={\"team\": \"team2\", \"team_last_5_wins\": \"team2_last_5_wins\"})\n",
    "summary = summary.merge(last_5_team1_matches_wins_df, on=\"team1\", how=\"left\")\n",
    "summary = summary.merge(last_5_team2_matches_wins_df, on=\"team2\", how=\"left\")\n"
   ]
  },
  {
   "cell_type": "markdown",
   "metadata": {},
   "source": [
    "### **Step 8: Event Name Standardization**"
   ]
  },
  {
   "cell_type": "code",
   "execution_count": null,
   "metadata": {},
   "outputs": [],
   "source": [
    "replacements = {\n",
    "    \"NatWest T20 Blast\": \"Vitality Blast\",\n",
    "    \"HRV Twenty20\": \"Super Smash\",\n",
    "    \"HRV Cup\": \"Super Smash\",\n",
    "    \"MiWAY T20 Challenge\": \"CSA T20 Challenge\",\n",
    "    \"Ram Slam T20 Challenge\": \"CSA T20 Challenge\"\n",
    "}\n",
    "\n",
    "summary[\"event_name\"] = summary[\"event_name\"].replace(replacements, regex=True)\n",
    "\n",
    "# Standardize event column based on team participation\n",
    "team_event_counts = summary.groupby(['team1', 'team2'])['event_name'].nunique().reset_index()\n",
    "multiple_events_teams = team_event_counts[team_event_counts['event_name'] > 1]\n",
    "teams_in_multiple_events = set(multiple_events_teams['team1']).union(set(multiple_events_teams['team2']))\n",
    "summary['event'] = summary.apply(lambda row: 'T20I' if row['team1'] in teams_in_multiple_events or row['team2'] in teams_in_multiple_events else row['event_name'], axis=1)\n",
    "summary['event'] = summary['event'].replace(\"Indian Premier League\", \"IPL\", regex=True)\n"
   ]
  },
  {
   "cell_type": "code",
   "execution_count": null,
   "metadata": {},
   "outputs": [],
   "source": [
    "# Create a mask for rows where event_name is \"IPL\"\n",
    "mask = summary[\"event_name\"] == \"IPL\"\n",
    "\n",
    "# Convert the specified columns to uppercase only for the rows where event_name is \"IPL\"\n",
    "summary.loc[mask, 'team1'] = summary.loc[mask, 'team1'].str.upper()\n",
    "summary.loc[mask, 'team2'] = summary.loc[mask, 'team2'].str.upper()\n",
    "summary.loc[mask, 'toss_winner'] = summary.loc[mask, 'toss_winner'].str.upper()\n",
    "summary.loc[mask, 'winner'] = summary.loc[mask, 'winner'].str.upper()"
   ]
  },
  {
   "cell_type": "markdown",
   "metadata": {},
   "source": [
    "### **Step 9: Save Cleaned DataFrame**"
   ]
  },
  {
   "cell_type": "code",
   "execution_count": null,
   "metadata": {},
   "outputs": [],
   "source": [
    "# Select and reorder final columns\n",
    "summary_df = summary[['match_id', 'season', 'event_name', 'event', 'match_date', 'team1', 'team2', 'toss_winner', 'toss_decision', 'winner', 'h2h_team1_wins%', 'h2h_venue_team1_wins%', 'team1_venue_wins%', 'team2_venue_wins%', 'team1_last_5_wins', 'team2_last_5_wins', 'ground']].copy()\n",
    "\n",
    "# Save the cleaned summary DataFrame to CSV\n",
    "summary_df.to_csv(fr\"D:\\GITHUB\\Predictive-Analytics-for-Cricket-Matches-Using-Machine-Learning\\source_data\\Summary\\match_summary\\{gender}\\{match_type}_{gender}_match_summary_cleaned_features.csv\", index=False)\n",
    "\n",
    "summary_df.head()"
   ]
  }
 ],
 "metadata": {
  "language_info": {
   "name": "python"
  }
 },
 "nbformat": 4,
 "nbformat_minor": 2
}
