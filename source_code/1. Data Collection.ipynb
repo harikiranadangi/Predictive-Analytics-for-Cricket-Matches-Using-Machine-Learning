{
 "cells": [
  {
   "cell_type": "code",
   "execution_count": 2,
   "metadata": {},
   "outputs": [],
   "source": [
    "import os\n",
    "import json\n",
    "import pandas as pd\n",
    "from pandas import json_normalize\n",
    "\n",
    "def process_json_files(folder_path, output_file, start_file=None):\n",
    "    # List all JSON files in the directory\n",
    "    json_files = [f for f in os.listdir(folder_path) if f.endswith('.json')]\n",
    "    \n",
    "    # Sort the list of files\n",
    "    json_files.sort()\n",
    "\n",
    "    # Filter files if a start file is provided\n",
    "    if start_file:\n",
    "        start_index = json_files.index(start_file) + 1\n",
    "        json_files = json_files[start_index:]\n",
    "\n",
    "    # List to hold all processed DataFrames\n",
    "    dfs = []\n",
    "\n",
    "    # Loop through each file\n",
    "    for file in json_files:\n",
    "        file_path = os.path.join(folder_path, file)\n",
    "        \n",
    "        try:\n",
    "            # Check if the file exists and is not empty\n",
    "            if os.path.exists(file_path) and os.path.getsize(file_path) > 0:\n",
    "                with open(file_path, 'r') as f:\n",
    "                    data = json.load(f)\n",
    "                \n",
    "                # Normalize JSON data into DataFrame\n",
    "                df = json_normalize(data)\n",
    "                \n",
    "                # Filter columns that start with 'info.' but not 'info.registry'\n",
    "                info_columns = [col for col in df.columns if col.startswith('info.') and not col.startswith('info.registry')\n",
    "                                and not col.startswith('info.players') and not col.startswith('info.supersubs.')]\n",
    "                df = df[info_columns]\n",
    "                \n",
    "                # Remove 'info.' prefix from the column names\n",
    "                df.columns = df.columns.str.replace(\"info.\", \"\", regex=False)\n",
    "                \n",
    "                # Add match_id column with the filename\n",
    "                df['match_id'] = os.path.splitext(file)[0]\n",
    "                \n",
    "                # Append the processed DataFrame to the list\n",
    "                dfs.append(df)\n",
    "            else:\n",
    "                print(f\"File not found or is empty: {file_path}\")\n",
    "        except json.JSONDecodeError as e:\n",
    "            print(f\"Error decoding JSON from file: {file_path}, Error: {str(e)}\")\n",
    "        except Exception as e:\n",
    "            print(f\"An error occurred processing file: {file_path}, Error: {str(e)}\")\n",
    "\n",
    "    # Concatenate all DataFrames into a single DataFrame\n",
    "    if dfs:\n",
    "        final_df = pd.concat(dfs, ignore_index=True)\n",
    "        # Save the final DataFrame to CSV\n",
    "        final_df.to_csv(output_file, index=False)\n",
    "        print(f\"Processed data saved to: {output_file}\")\n",
    "    else:\n",
    "        print(\"No data processed. Please check the input files.\")"
   ]
  },
  {
   "cell_type": "code",
   "execution_count": 3,
   "metadata": {},
   "outputs": [
    {
     "name": "stdout",
     "output_type": "stream",
     "text": [
      "Processed data saved to: D:\\GITHUB\\Predictive-Analytics-for-Cricket-Matches-Using-Machine-Learning\\source_data\\Summary\\match_summary\\old_match_summary.csv\n"
     ]
    }
   ],
   "source": [
    "# Old Data\n",
    "old_folder_path = r\"H:\\all matches\\all_json\"\n",
    "old_output_file = r\"D:\\GITHUB\\Predictive-Analytics-for-Cricket-Matches-Using-Machine-Learning\\source_data\\Summary\\match_summary\\old_match_summary.csv\"\n",
    "process_json_files(old_folder_path, old_output_file)"
   ]
  },
  {
   "cell_type": "code",
   "execution_count": 4,
   "metadata": {},
   "outputs": [
    {
     "name": "stdout",
     "output_type": "stream",
     "text": [
      "Processed data saved to: D:\\GITHUB\\Predictive-Analytics-for-Cricket-Matches-Using-Machine-Learning\\source_data\\Summary\\match_summary\\new_match_summary.csv\n"
     ]
    }
   ],
   "source": [
    "# New Data\n",
    "new_folder_path = r\"H:\\all matches\\all_json\"\n",
    "new_output_file = r\"D:\\GITHUB\\Predictive-Analytics-for-Cricket-Matches-Using-Machine-Learning\\source_data\\Summary\\match_summary\\new_match_summary.csv\"\n",
    "start_file = \"1436482.json\"\n",
    "process_json_files(new_folder_path, new_output_file, start_file=start_file)"
   ]
  },
  {
   "cell_type": "code",
   "execution_count": 5,
   "metadata": {},
   "outputs": [],
   "source": [
    "old_output_file = r\"D:\\GITHUB\\Predictive-Analytics-for-Cricket-Matches-Using-Machine-Learning\\source_data\\Summary\\match_summary\\old_match_summary.csv\"\n",
    "new_output_file = r\"D:\\GITHUB\\Predictive-Analytics-for-Cricket-Matches-Using-Machine-Learning\\source_data\\Summary\\match_summary\\new_match_summary.csv\""
   ]
  },
  {
   "cell_type": "code",
   "execution_count": 6,
   "metadata": {},
   "outputs": [
    {
     "name": "stdout",
     "output_type": "stream",
     "text": [
      "Concatenated data saved to: D:\\GITHUB\\Predictive-Analytics-for-Cricket-Matches-Using-Machine-Learning\\source_data\\Summary\\match_summary\\match_summary.csv\n"
     ]
    }
   ],
   "source": [
    "# Concatenate old and new DataFrames\n",
    "old_final_df = pd.read_csv(old_output_file, low_memory=False)\n",
    "new_final_df = pd.read_csv(new_output_file, low_memory=False)\n",
    "output_file = r\"D:\\GITHUB\\Predictive-Analytics-for-Cricket-Matches-Using-Machine-Learning\\source_data\\Summary\\match_summary\\match_summary.csv\"\n",
    "final_df = pd.concat([new_final_df, old_final_df], ignore_index=True)\n",
    "final_df.to_csv(output_file, index=False)\n",
    "print(f\"Concatenated data saved to: {output_file}\")"
   ]
  },
  {
   "cell_type": "code",
   "execution_count": 7,
   "metadata": {},
   "outputs": [
    {
     "name": "stdout",
     "output_type": "stream",
     "text": [
      "   balls_per_over       city           dates  \\\n",
      "0               6  Spinaceto  ['2024-06-13']   \n",
      "1               6       Rome  ['2024-06-13']   \n",
      "2               6  Spinaceto  ['2024-06-13']   \n",
      "3               6       Rome  ['2024-06-13']   \n",
      "4               6  Spinaceto  ['2024-06-15']   \n",
      "\n",
      "                                          event.name  event.match_number  \\\n",
      "0  ICC Men's T20 World Cup Sub Regional Europe Qu...                13.0   \n",
      "1  ICC Men's T20 World Cup Sub Regional Europe Qu...                14.0   \n",
      "2  ICC Men's T20 World Cup Sub Regional Europe Qu...                15.0   \n",
      "3  ICC Men's T20 World Cup Sub Regional Europe Qu...                16.0   \n",
      "4  ICC Men's T20 World Cup Sub Regional Europe Qu...                17.0   \n",
      "\n",
      "  event.group gender match_type  match_type_number officials.match_referees  \\\n",
      "0           B   male        T20             2673.0             ['G McCrea']   \n",
      "1           A   male        T20             2674.0             ['G McCrea']   \n",
      "2           B   male        T20             2675.0             ['G McCrea']   \n",
      "3           A   male        T20             2676.0             ['G McCrea']   \n",
      "4           A   male        T20             2683.0             ['G McCrea']   \n",
      "\n",
      "   ... event.stage officials.tv_umpires outcome.by.innings  outcome.result  \\\n",
      "0  ...         NaN                  NaN                NaN             NaN   \n",
      "1  ...         NaN                  NaN                NaN             NaN   \n",
      "2  ...         NaN                  NaN                NaN             NaN   \n",
      "3  ...         NaN                  NaN                NaN             NaN   \n",
      "4  ...         NaN                  NaN                NaN             NaN   \n",
      "\n",
      "   outcome.method event.sub_name bowl_out outcome.bowl_out outcome.eliminator  \\\n",
      "0             NaN            NaN      NaN              NaN                NaN   \n",
      "1             NaN            NaN      NaN              NaN                NaN   \n",
      "2             NaN            NaN      NaN              NaN                NaN   \n",
      "3             NaN            NaN      NaN              NaN                NaN   \n",
      "4             NaN            NaN      NaN              NaN                NaN   \n",
      "\n",
      "  toss.uncontested  \n",
      "0              NaN  \n",
      "1              NaN  \n",
      "2              NaN  \n",
      "3              NaN  \n",
      "4              NaN  \n",
      "\n",
      "[5 rows x 35 columns]\n"
     ]
    }
   ],
   "source": [
    "# Display the head of the final DataFrame\n",
    "print(final_df.head())"
   ]
  }
 ],
 "metadata": {
  "kernelspec": {
   "display_name": "Python 3",
   "language": "python",
   "name": "python3"
  },
  "language_info": {
   "codemirror_mode": {
    "name": "ipython",
    "version": 3
   },
   "file_extension": ".py",
   "mimetype": "text/x-python",
   "name": "python",
   "nbconvert_exporter": "python",
   "pygments_lexer": "ipython3",
   "version": "3.12.3"
  }
 },
 "nbformat": 4,
 "nbformat_minor": 2
}
